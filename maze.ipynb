{
 "cells": [
  {
   "cell_type": "markdown",
   "source": [
    "# Reproduction of the empowerment in 10x10 maze setting\n",
    "as described in [Klyubin, A., Polani, D., and Nehaniv, C. (2005a). All else being equal be empowered. Advances in Artificial Life, pages 744–753.](https://link.springer.com/content/pdf/10.1007/11553090_75.pdf)"
   ],
   "metadata": {
    "collapsed": false
   }
  },
  {
   "cell_type": "code",
   "execution_count": 1,
   "outputs": [],
   "source": [
    "from maze import Maze\n",
    "import matplotlib.pyplot as plt\n",
    "import utils"
   ],
   "metadata": {
    "collapsed": false,
    "pycharm": {
     "name": "#%%\n"
    }
   }
  },
  {
   "cell_type": "code",
   "execution_count": 2,
   "outputs": [],
   "source": [
    "# manually hard code walls in the maze\n",
    "# represented by \"prohibited edges\" in the connectivity topology.\n",
    "maze_walls = {((3,0), (3,1)), ((3,1), (4,1)), ((4,1), (4,2)), ((4,2), (5,2)), ((4,2), (4,3)), ((4,3), (5,3)), ((4,3), (4,4)), ((3,3), (3,4)), ((2,3), (2,4)), ((6,5), (6,6)), ((5,6), (6,6)), ((5,7), (6,7)), ((6,6), (7,6)), ((6,7), (7,7))}\n",
    "\n",
    "# add the walls between row number 7 and 8, which almost form a line except at the 6th column.\n",
    "for i in range(9):\n",
    "    if i != 6:\n",
    "        maze_walls.add(((i,7), (i,8)))"
   ],
   "metadata": {
    "collapsed": false,
    "pycharm": {
     "name": "#%%\n"
    }
   }
  },
  {
   "cell_type": "code",
   "execution_count": 3,
   "outputs": [
    {
     "data": {
      "text/plain": "22"
     },
     "execution_count": 3,
     "metadata": {},
     "output_type": "execute_result"
    }
   ],
   "source": [
    "len(maze_walls)"
   ],
   "metadata": {
    "collapsed": false,
    "pycharm": {
     "name": "#%%\n"
    }
   }
  },
  {
   "cell_type": "markdown",
   "source": [
    "## Compute 5-step empowerment"
   ],
   "metadata": {
    "collapsed": false
   }
  },
  {
   "cell_type": "code",
   "execution_count": 4,
   "outputs": [
    {
     "data": {
      "text/plain": "<Figure size 432x288 with 2 Axes>",
      "image/png": "[encoded data removed]"
     },
     "metadata": {
      "needs_background": "light"
     },
     "output_type": "display_data"
    }
   ],
   "source": [
    "n = 5\n",
    "maze = Maze(10, 10, maze_walls)\n",
    "\n",
    "# plot empowerment & maze layout\n",
    "emp_grid = maze.get_empowerment_grid(n=n)\n",
    "plt.imshow(emp_grid, cmap='hot')\n",
    "plt.colorbar()\n",
    "utils.plot_walls(maze_walls, 'g-')\n",
    "plt.title(f'{n}-step empowerment (in bits)')\n",
    "plt.show()"
   ],
   "metadata": {
    "collapsed": false,
    "pycharm": {
     "name": "#%%\n"
    }
   }
  },
  {
   "cell_type": "markdown",
   "source": [
    "## empowerment range"
   ],
   "metadata": {
    "collapsed": false,
    "pycharm": {
     "name": "#%% md\n"
    }
   }
  },
  {
   "cell_type": "code",
   "execution_count": 5,
   "outputs": [
    {
     "name": "stdout",
     "output_type": "stream",
     "text": [
      "empowerment range: [3.46, 5.52]\n"
     ]
    }
   ],
   "source": [
    "print('empowerment range: [{:.2f}, {:.2f}]'.format(emp_grid.min(), emp_grid.max()))"
   ],
   "metadata": {
    "collapsed": false,
    "pycharm": {
     "name": "#%%\n"
    }
   }
  }
 ],
 "metadata": {
  "kernelspec": {
   "display_name": "Python 3",
   "language": "python",
   "name": "python3"
  },
  "language_info": {
   "codemirror_mode": {
    "name": "ipython",
    "version": 3
   },
   "file_extension": ".py",
   "mimetype": "text/x-python",
   "name": "python",
   "nbconvert_exporter": "python",
   "pygments_lexer": "ipython3",
   "version": "3.8.8"
  }
 },
 "nbformat": 4,
 "nbformat_minor": 5
}